{
 "cells": [
  {
   "cell_type": "code",
   "execution_count": null,
   "metadata": {
    "vscode": {
     "languageId": "plaintext"
    }
   },
   "outputs": [],
   "source": [
    "#!share/d.deyneko/metric_forecaster/metrics_forecaster.ipynb\n",
    "\n",
    "import numpy as np\n",
    "import pandas as pd\n",
    "from matplotlib import pyplot as plt\n",
    "import seaborn as sns\n",
    "from statsmodels.tsa.arima_process import ArmaProcess\n",
    "from sklearn.metrics import mean_absolute_error, mean_absolute_percentage_error, r2_score\n",
    "import statsmodels.api as sm\n",
    "from scipy.stats import ttest_1samp\n",
    "from tqdm.notebook import tqdm\n",
    "import plotly.express as px\n",
    "import plotly.graph_objs as go\n",
    "import digger as dg\n",
    "from scipy.stats import pearsonr\n",
    "import sqlalchemy\n",
    "import plotly.graph_objects as go\n",
    "from scipy import stats\n",
    "import os\n",
    "import json\n",
    "from sqlalchemy import create_engine\n",
    "from clickhouse_sqlalchemy import make_session\n",
    "from sqlalchemy.sql import text\n",
    "from statsmodels.tsa.arima.model import ARIMA\n",
    "from sklearn.preprocessing import PolynomialFeatures\n",
    "from sklearn.linear_model import LinearRegression\n",
    "from statsmodels.tsa.statespace.sarimax import SARIMAX\n",
    "from datetime import timedelta, datetime, date\n",
    "from prophet import Prophet\n",
    "from IPython.display import HTML, display, Markdown, clear_output\n",
    "from ipywidgets import widgets, VBox, HBox, Output\n",
    "from datetime import date, datetime, timedelta\n",
    "from dateutil.relativedelta import relativedelta\n",
    "from clickhouse_driver import Client\n",
    "\n",
    "\n",
    "connection = {\n",
    "    'host': 'http://click.c.test:8123',\n",
    "    'password': '123123',\n",
    "    'user': 'default',\n",
    "    'database': 'metrics'\n",
    "}\n",
    "\n",
    "\n",
    "FRACTION_METRICS = {\n",
    "    \"DAU_with_friend_ratio_7d\",\n",
    "    \"ratio_3plus_friends\"\n",
    "}"
   ]
  }
 ],
 "metadata": {
  "language_info": {
   "name": "python"
  }
 },
 "nbformat": 4,
 "nbformat_minor": 2
}
