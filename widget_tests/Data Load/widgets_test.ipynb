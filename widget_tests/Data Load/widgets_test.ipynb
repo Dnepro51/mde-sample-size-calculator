{
 "cells": [
  {
   "cell_type": "code",
   "execution_count": null,
   "metadata": {},
   "outputs": [],
   "source": [
    "import sys\n",
    "import os\n",
    "project_root = os.path.dirname(os.path.dirname(os.getcwd()))\n",
    "sys.path.insert(0, project_root)\n",
    "#импорты загрузки \n",
    "\n",
    "import InterfaceWidgets.data_load_widgets as data_load_widgets\n",
    "import InterfaceWidgets.column_selection_widgets as column_selection_widgets\n",
    "\n",
    "#импорты EDA\n",
    "import InterfaceWidgets.EDA_widgets as eda_widgets\n",
    "\n",
    "#импорты экспериментального ядра\n",
    "import ExperimentsCore.experiments_core as exp_core\n",
    "import InterfaceWidgets.experiments_interface_widgets as exp_widgets\n",
    "\n",
    "# Обработчик создания распределения после EDA\n",
    "def handle_distribution_creation(series):\n",
    "    print(\"Создание дискретного распределения...\")\n",
    "    rv, df_dist, round_digits = exp_core.discrete_dist_creation(series)\n",
    "    exp_widgets.display_distribution_info(rv, df_dist, round_digits)\n",
    "    exp_widgets.display_experiments_config_screen()\n",
    "\n",
    "# Обработчик выбора колонки\n",
    "def handle_column_selection(selected_column, data_dict):\n",
    "    print(f\"Выбрана колонка: {selected_column}\")\n",
    "    print(f\"Получен словарь данных с {len(data_dict['df'])} строками\")\n",
    "    # Запускаем EDA анализ для выбранной колонки с передачей callback'а для создания распределения\n",
    "    series = data_dict['df'][selected_column]\n",
    "    eda_widgets.run_eda_analysis(selected_column, data_dict, \n",
    "                                on_eda_complete=lambda: handle_distribution_creation(series))\n",
    "\n",
    "# Обработчик загрузки данных\n",
    "def handle_data_loaded(data_dict):\n",
    "    # Когда данные загружены, показываем селектор колонок\n",
    "    column_selection_widgets.column_selection_widgets(\n",
    "        data_dict, \n",
    "        on_column_selected=handle_column_selection\n",
    "    )\n",
    "\n",
    "# Показываем интерфейс загрузки с callback'ом\n",
    "data_load_widgets.display_interface(on_data_loaded=handle_data_loaded)"
   ]
  },
  {
   "cell_type": "code",
   "execution_count": null,
   "metadata": {},
   "outputs": [],
   "source": []
  },
  {
   "cell_type": "code",
   "execution_count": null,
   "metadata": {},
   "outputs": [],
   "source": []
  }
 ],
 "metadata": {
  "kernelspec": {
   "display_name": "Python 3",
   "language": "python",
   "name": "python3"
  },
  "language_info": {
   "codemirror_mode": {
    "name": "ipython",
    "version": 3
   },
   "file_extension": ".py",
   "mimetype": "text/x-python",
   "name": "python",
   "nbconvert_exporter": "python",
   "pygments_lexer": "ipython3",
   "version": "3.12.3"
  }
 },
 "nbformat": 4,
 "nbformat_minor": 2
}
