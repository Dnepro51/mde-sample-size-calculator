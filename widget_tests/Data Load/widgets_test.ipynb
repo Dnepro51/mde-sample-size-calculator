{
 "cells": [
  {
   "cell_type": "code",
   "execution_count": 1,
   "metadata": {},
   "outputs": [
    {
     "data": {
      "application/vnd.jupyter.widget-view+json": {
       "model_id": "5251af6292094ebeb3c860e6dc807886",
       "version_major": 2,
       "version_minor": 0
      },
      "text/plain": [
       "HBox(children=(Button(description='Загрузка из Digger', icon='search', layout=Layout(border_bottom='2px solid …"
      ]
     },
     "metadata": {},
     "output_type": "display_data"
    },
    {
     "data": {
      "application/vnd.jupyter.widget-view+json": {
       "model_id": "22b91faefd5d4dbb9dc5eaa5192aff64",
       "version_major": 2,
       "version_minor": 0
      },
      "text/plain": [
       "Output()"
      ]
     },
     "metadata": {},
     "output_type": "display_data"
    },
    {
     "data": {
      "application/vnd.jupyter.widget-view+json": {
       "model_id": "17866efce1174c3798d984f1f0dc8478",
       "version_major": 2,
       "version_minor": 0
      },
      "text/plain": [
       "VBox(children=(HTML(value='', layout=Layout(margin='10px 0px')),), layout=Layout(display='none'))"
      ]
     },
     "metadata": {},
     "output_type": "display_data"
    },
    {
     "data": {
      "application/vnd.jupyter.widget-view+json": {
       "model_id": "c5ae21b1045d4381b54fdc6d55b5d316",
       "version_major": 2,
       "version_minor": 0
      },
      "text/plain": [
       "Output()"
      ]
     },
     "metadata": {},
     "output_type": "display_data"
    },
    {
     "data": {
      "text/plain": [
       "0    WrappedArray(V2:bc3cb9ec-d1ed-4e77-86ad-275985...\n",
       "1    WrappedArray(V2:cbed7340-8fdb-4b33-9479-d35333...\n",
       "2    WrappedArray(V2:2e503c25-6c04-4c68-b6c8-4fb76c...\n",
       "3    WrappedArray(V2:28d37422-c0a9-46df-aa79-2b2c99...\n",
       "4    WrappedArray(V2:3386c0ab-9855-4c70-b7fa-86149f...\n",
       "Name: devices, dtype: object"
      ]
     },
     "metadata": {},
     "output_type": "display_data"
    },
    {
     "name": "stdout",
     "output_type": "stream",
     "text": [
      "Выбрана колонка: devices\n"
     ]
    },
    {
     "data": {
      "text/plain": [
       "0    WrappedArray(9c66f271-e7a2-4dab-aa73-80c8c4a3e...\n",
       "1    WrappedArray(b4e0f3e8-4bea-4e9e-8c56-10eb2be9d...\n",
       "2    WrappedArray(6227ce87-2367-4021-9fca-7ee7caa0d...\n",
       "3    WrappedArray(daea0019-b5c3-47f1-8627-88b4ea204...\n",
       "4    WrappedArray(2290937d-6cec-45a8-93c5-94b31718b...\n",
       "Name: source_events_ids, dtype: object"
      ]
     },
     "metadata": {},
     "output_type": "display_data"
    },
    {
     "name": "stdout",
     "output_type": "stream",
     "text": [
      "Выбрана колонка: source_events_ids\n"
     ]
    },
    {
     "data": {
      "text/plain": [
       "0    sofa miwsv неподалёку\\nПосмотри, где твой друг...\n",
       "1    aigerim 🧸 неподалёку\\nПосмотри, где твой друг,...\n",
       "2    Аружан Базарбай неподалёку\\nПосмотри, где твой...\n",
       "3    Tasnim Serik неподалёку\\nПосмотри, где твой др...\n",
       "4    Бота Жиенбаева неподалёку\\nПосмотри, где твой ...\n",
       "Name: body, dtype: object"
      ]
     },
     "metadata": {},
     "output_type": "display_data"
    },
    {
     "name": "stdout",
     "output_type": "stream",
     "text": [
      "Выбрана колонка: body\n"
     ]
    }
   ],
   "source": [
    "import sys\n",
    "import os\n",
    "project_root = os.path.dirname(os.path.dirname(os.getcwd()))\n",
    "sys.path.insert(0, project_root)\n",
    "\n",
    "import InterfaceWidgets.data_load_widgets as data_load_widgets\n",
    "import InterfaceWidgets.column_selection_widgets as column_selection_widgets\n",
    "\n",
    "# Обработчик выбора колонки\n",
    "def handle_column_selection(selected_column):\n",
    "    print(f\"Выбрана колонка: {selected_column}\")\n",
    "    # Здесь можно делать что-то с выбранной колонкой\n",
    "\n",
    "# Обработчик загрузки данных\n",
    "def handle_data_loaded(data_dict):\n",
    "    # Когда данные загружены, показываем селектор колонок\n",
    "    column_selection_widgets.column_selection_widgets(\n",
    "        data_dict, \n",
    "        on_column_selected=handle_column_selection\n",
    "    )\n",
    "\n",
    "# Показываем интерфейс загрузки с callback'ом\n",
    "data_load_widgets.display_interface(on_data_loaded=handle_data_loaded)"
   ]
  },
  {
   "cell_type": "code",
   "execution_count": null,
   "metadata": {},
   "outputs": [],
   "source": []
  },
  {
   "cell_type": "code",
   "execution_count": null,
   "metadata": {},
   "outputs": [],
   "source": []
  }
 ],
 "metadata": {
  "kernelspec": {
   "display_name": "Python 3",
   "language": "python",
   "name": "python3"
  },
  "language_info": {
   "codemirror_mode": {
    "name": "ipython",
    "version": 3
   },
   "file_extension": ".py",
   "mimetype": "text/x-python",
   "name": "python",
   "nbconvert_exporter": "python",
   "pygments_lexer": "ipython3",
   "version": "3.12.3"
  }
 },
 "nbformat": 4,
 "nbformat_minor": 2
}
